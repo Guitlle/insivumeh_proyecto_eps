{
 "cells": [
  {
   "cell_type": "markdown",
   "metadata": {},
   "source": [
    "# Main ideas from plots "
   ]
  },
  {
   "cell_type": "markdown",
   "metadata": {},
   "source": [
    "a. Zonal wind predict has higher skill for season May-Jul (early rainy season). This is something that can implemented in the operational forecast and it has not been considered before. \n",
    "\n",
    "b. The forecast for Jun-Aug is very consistent across the models using rainfall as a predictor. Also, zonal wind is a good predictor, as good as direct rainfall. \n",
    "\n",
    "c. For late rainy season, El Niño (SST) as a predictor shows an increase in the skill, as good as the others two mentioned above. "
   ]
  },
  {
   "cell_type": "markdown",
   "metadata": {},
   "source": [
    "# Some physical ideas"
   ]
  },
  {
   "cell_type": "markdown",
   "metadata": {},
   "source": [
    "a. A minimum in zonal wind allows convection to happen (Wang 2007). Is one of the EOF resembling the wind pattern in april?\n",
    "\n",
    "b. Models with direct rainfall output are reproducing very well rainfall during Mid-summer drought. \n",
    "\n",
    "c. ENSO affects the hurricane season and this is evident in the increased skill for El Niño (SST). "
   ]
  },
  {
   "cell_type": "code",
   "execution_count": null,
   "metadata": {},
   "outputs": [],
   "source": []
  }
 ],
 "metadata": {
  "kernelspec": {
   "display_name": "Python 3",
   "language": "python",
   "name": "python3"
  },
  "language_info": {
   "codemirror_mode": {
    "name": "ipython",
    "version": 3
   },
   "file_extension": ".py",
   "mimetype": "text/x-python",
   "name": "python",
   "nbconvert_exporter": "python",
   "pygments_lexer": "ipython3",
   "version": "3.7.6"
  }
 },
 "nbformat": 4,
 "nbformat_minor": 4
}
